{
  "nbformat": 4,
  "nbformat_minor": 0,
  "metadata": {
    "colab": {
      "provenance": []
    },
    "kernelspec": {
      "name": "python3",
      "display_name": "Python 3"
    },
    "language_info": {
      "name": "python"
    }
  },
  "cells": [
    {
      "cell_type": "code",
      "execution_count": 1,
      "metadata": {
        "colab": {
          "base_uri": "https://localhost:8080/"
        },
        "id": "Z-N25ujzVGy_",
        "outputId": "f7549c2b-47c5-4fda-d346-99de144987c7"
      },
      "outputs": [
        {
          "output_type": "stream",
          "name": "stdout",
          "text": [
            "Requirement already satisfied: scikit-learn in /usr/local/lib/python3.10/dist-packages (1.2.2)\n",
            "Requirement already satisfied: numpy>=1.17.3 in /usr/local/lib/python3.10/dist-packages (from scikit-learn) (1.23.5)\n",
            "Requirement already satisfied: scipy>=1.3.2 in /usr/local/lib/python3.10/dist-packages (from scikit-learn) (1.11.4)\n",
            "Requirement already satisfied: joblib>=1.1.1 in /usr/local/lib/python3.10/dist-packages (from scikit-learn) (1.3.2)\n",
            "Requirement already satisfied: threadpoolctl>=2.0.0 in /usr/local/lib/python3.10/dist-packages (from scikit-learn) (3.2.0)\n"
          ]
        }
      ],
      "source": [
        "pip install scikit-learn\n"
      ]
    },
    {
      "cell_type": "code",
      "source": [
        "import pandas as pd\n",
        "from sklearn.model_selection import train_test_split\n",
        "from sklearn.linear_model import LinearRegression\n",
        "from sklearn import metrics\n",
        "import matplotlib.pyplot as plt\n",
        "\n",
        "# Load the data from the CSV file\n",
        "pokemon_data = pd.read_csv('/content/Pokemon.csv')\n",
        "\n",
        "# Display the first few rows of the dataset\n",
        "print(pokemon_data.head())\n",
        "\n",
        "# Separate features (independent variables) and target (dependent variable)\n",
        "X = pokemon_data[['HP', 'Attack', 'Defense', 'Sp. Atk', 'Sp. Def', 'Speed']]\n",
        "y = pokemon_data['Total']\n",
        "\n",
        "# Split the dataset into training and testing sets\n",
        "X_train, X_test, y_train, y_test = train_test_split(X, y, test_size=0.2, random_state=42)\n",
        "\n",
        "# Create a linear regression model\n",
        "model = LinearRegression()\n",
        "\n",
        "# Train the model\n",
        "model.fit(X_train, y_train)\n",
        "\n",
        "# Make predictions on the test set\n",
        "y_pred = model.predict(X_test)\n",
        "\n",
        "# Evaluate the model\n",
        "print('Mean Absolute Error:', metrics.mean_absolute_error(y_test, y_pred))\n",
        "print('Mean Squared Error:', metrics.mean_squared_error(y_test, y_pred))\n",
        "print('Root Mean Squared Error:', metrics.mean_squared_error(y_test, y_pred, squared=False))\n",
        "\n",
        "# Visualize the predictions\n",
        "plt.scatter(y_test, y_pred)\n",
        "plt.xlabel('True Values')\n",
        "plt.ylabel('Predictions')\n",
        "plt.show()\n"
      ],
      "metadata": {
        "colab": {
          "base_uri": "https://localhost:8080/",
          "height": 727
        },
        "id": "LMGbbz3iVMy5",
        "outputId": "e32d6efa-5038-4ff7-b57a-7b754fcc8ca5"
      },
      "execution_count": 4,
      "outputs": [
        {
          "output_type": "stream",
          "name": "stdout",
          "text": [
            "   #                   Name Type 1  Type 2  Total  HP  Attack  Defense  \\\n",
            "0  1              Bulbasaur  Grass  Poison    318  45      49       49   \n",
            "1  2                Ivysaur  Grass  Poison    405  60      62       63   \n",
            "2  3               Venusaur  Grass  Poison    525  80      82       83   \n",
            "3  3  VenusaurMega Venusaur  Grass  Poison    625  80     100      123   \n",
            "4  4             Charmander   Fire     NaN    309  39      52       43   \n",
            "\n",
            "   Sp. Atk  Sp. Def  Speed  Generation  Legendary  \n",
            "0       65       65     45           1      False  \n",
            "1       80       80     60           1      False  \n",
            "2      100      100     80           1      False  \n",
            "3      122      120     80           1      False  \n",
            "4       60       50     65           1      False  \n",
            "Mean Absolute Error: 7.034373084024992e-14\n",
            "Mean Squared Error: 9.784399579637254e-27\n",
            "Root Mean Squared Error: 9.891612396185596e-14\n"
          ]
        },
        {
          "output_type": "display_data",
          "data": {
            "text/plain": [
              "<Figure size 640x480 with 1 Axes>"
            ],
            "image/png": "[encoded data removed]"
          },
          "metadata": {}
        }
      ]
    },
    {
      "cell_type": "code",
      "source": [
        "# Evaluate the model\n",
        "print('Mean Absolute Error:', metrics.mean_absolute_error(y_test, y_pred))\n",
        "print('Mean Squared Error:', metrics.mean_squared_error(y_test, y_pred))\n",
        "print('Root Mean Squared Error:', metrics.mean_squared_error(y_test, y_pred, squared=False))\n"
      ],
      "metadata": {
        "colab": {
          "base_uri": "https://localhost:8080/"
        },
        "id": "pa3NMwetiDhp",
        "outputId": "1eab0ad4-fb5e-423f-b00e-daadf5e653ea"
      },
      "execution_count": 26,
      "outputs": [
        {
          "output_type": "stream",
          "name": "stdout",
          "text": [
            "Mean Absolute Error: 20.91153403752516\n",
            "Mean Squared Error: 801.8045414845857\n",
            "Root Mean Squared Error: 28.316153366666626\n"
          ]
        }
      ]
    },
    {
      "cell_type": "code",
      "source": [
        "import pandas as pd\n",
        "\n",
        "# Load the data from the CSV file\n",
        "pokemon_data = pd.read_csv('/content/Pokemon.csv')\n",
        "\n",
        "# Perform one-hot encoding on 'Type 1' and 'Type 2' columns\n",
        "pokemon_data_encoded = pd.get_dummies(pokemon_data, columns=['Type 1', 'Type 2'], dummy_na=True)\n",
        "\n",
        "# Print the updated DataFrame\n",
        "print(pokemon_data_encoded)\n"
      ],
      "metadata": {
        "colab": {
          "base_uri": "https://localhost:8080/"
        },
        "id": "Z1MvXR_pYYfC",
        "outputId": "8e36d428-3c72-4f50-a4d8-78de4ddfa9f0"
      },
      "execution_count": 8,
      "outputs": [
        {
          "output_type": "stream",
          "name": "stdout",
          "text": [
            "       #                   Name  Total  HP  Attack  Defense  Sp. Atk  Sp. Def  \\\n",
            "0      1              Bulbasaur    318  45      49       49       65       65   \n",
            "1      2                Ivysaur    405  60      62       63       80       80   \n",
            "2      3               Venusaur    525  80      82       83      100      100   \n",
            "3      3  VenusaurMega Venusaur    625  80     100      123      122      120   \n",
            "4      4             Charmander    309  39      52       43       60       50   \n",
            "..   ...                    ...    ...  ..     ...      ...      ...      ...   \n",
            "795  719                Diancie    600  50     100      150      100      150   \n",
            "796  719    DiancieMega Diancie    700  50     160      110      160      110   \n",
            "797  720    HoopaHoopa Confined    600  80     110       60      150      130   \n",
            "798  720     HoopaHoopa Unbound    680  80     160       60      170      130   \n",
            "799  721              Volcanion    600  80     110      120      130       90   \n",
            "\n",
            "     Speed  Generation  ...  Type 2_Grass  Type 2_Ground  Type 2_Ice  \\\n",
            "0       45           1  ...             0              0           0   \n",
            "1       60           1  ...             0              0           0   \n",
            "2       80           1  ...             0              0           0   \n",
            "3       80           1  ...             0              0           0   \n",
            "4       65           1  ...             0              0           0   \n",
            "..     ...         ...  ...           ...            ...         ...   \n",
            "795     50           6  ...             0              0           0   \n",
            "796    110           6  ...             0              0           0   \n",
            "797     70           6  ...             0              0           0   \n",
            "798     80           6  ...             0              0           0   \n",
            "799     70           6  ...             0              0           0   \n",
            "\n",
            "     Type 2_Normal  Type 2_Poison  Type 2_Psychic  Type 2_Rock  Type 2_Steel  \\\n",
            "0                0              1               0            0             0   \n",
            "1                0              1               0            0             0   \n",
            "2                0              1               0            0             0   \n",
            "3                0              1               0            0             0   \n",
            "4                0              0               0            0             0   \n",
            "..             ...            ...             ...          ...           ...   \n",
            "795              0              0               0            0             0   \n",
            "796              0              0               0            0             0   \n",
            "797              0              0               0            0             0   \n",
            "798              0              0               0            0             0   \n",
            "799              0              0               0            0             0   \n",
            "\n",
            "     Type 2_Water  Type 2_nan  \n",
            "0               0           0  \n",
            "1               0           0  \n",
            "2               0           0  \n",
            "3               0           0  \n",
            "4               0           1  \n",
            "..            ...         ...  \n",
            "795             0           0  \n",
            "796             0           0  \n",
            "797             0           0  \n",
            "798             0           0  \n",
            "799             1           0  \n",
            "\n",
            "[800 rows x 49 columns]\n"
          ]
        }
      ]
    },
    {
      "cell_type": "code",
      "source": [
        "# smote"
      ],
      "metadata": {
        "id": "9ikqAZlOaH7i"
      },
      "execution_count": null,
      "outputs": []
    },
    {
      "cell_type": "code",
      "source": [
        "import pandas as pd\n",
        "from imblearn.over_sampling import SMOTE\n",
        "from sklearn.model_selection import train_test_split\n",
        "from sklearn.ensemble import RandomForestClassifier\n",
        "from sklearn.metrics import classification_report, accuracy_score\n",
        "\n",
        "# Load the data from the CSV file\n",
        "pokemon_data = pd.read_csv('/content/Pokemon.csv')\n",
        "\n",
        "# Assume 'Legendary' is the target variable\n",
        "# You can replace 'Legendary' with the actual target variable in your dataset\n",
        "target_variable = 'Legendary'\n",
        "\n",
        "# Separate features (independent variables) and target (dependent variable)\n",
        "X = pokemon_data[[ 'Attack', 'Defense', 'Sp. Atk', 'Sp. Def', 'Speed']]\n",
        "y = pokemon_data[target_variable]\n",
        "\n",
        "# Split the dataset into training and testing sets\n",
        "X_train, X_test, y_train, y_test = train_test_split(X, y, test_size=0.2, random_state=42)\n",
        "\n",
        "# Apply SMOTE to handle class imbalance\n",
        "smote = SMOTE(random_state=42)\n",
        "X_resampled, y_resampled = smote.fit_resample(X_train, y_train)\n",
        "\n",
        "# Create a classification model (Random Forest as an example)\n",
        "model = RandomForestClassifier(random_state=42)\n",
        "model.fit(X_resampled, y_resampled)\n",
        "\n",
        "# Make predictions on the test set\n",
        "y_pred = model.predict(X_test)\n",
        "\n",
        "# Evaluate the model\n",
        "print('Accuracy:', accuracy_score(y_test, y_pred))\n",
        "print('Classification Report:\\n', classification_report(y_test, y_pred))\n"
      ],
      "metadata": {
        "colab": {
          "base_uri": "https://localhost:8080/"
        },
        "id": "OqN9qzpfaJlh",
        "outputId": "dbd44842-2737-4530-8db7-4b19b3d6a2c9"
      },
      "execution_count": 18,
      "outputs": [
        {
          "output_type": "stream",
          "name": "stdout",
          "text": [
            "Accuracy: 0.9625\n",
            "Classification Report:\n",
            "               precision    recall  f1-score   support\n",
            "\n",
            "       False       0.99      0.97      0.98       150\n",
            "        True       0.64      0.90      0.75        10\n",
            "\n",
            "    accuracy                           0.96       160\n",
            "   macro avg       0.82      0.93      0.86       160\n",
            "weighted avg       0.97      0.96      0.97       160\n",
            "\n"
          ]
        }
      ]
    },
    {
      "cell_type": "code",
      "source": [],
      "metadata": {
        "colab": {
          "base_uri": "https://localhost:8080/"
        },
        "id": "E1_HlQHzfP5L",
        "outputId": "e5083971-9717-46da-a73a-ab547b6be8b4"
      },
      "execution_count": 19,
      "outputs": [
        {
          "output_type": "stream",
          "name": "stdout",
          "text": [
            "Class Distribution Before SMOTE:\n",
            "False    735\n",
            "True      65\n",
            "Name: Legendary, dtype: int64\n",
            "\n",
            "Class Distribution After SMOTE:\n",
            "True     585\n",
            "False    585\n",
            "Name: Legendary, dtype: int64\n"
          ]
        }
      ]
    },
    {
      "cell_type": "code",
      "source": [
        "# Evaluate the model\n",
        "print('Accuracy:', accuracy_score(y_test, y_pred))\n",
        "print('Classification Report:\\n', classification_report(y_test, y_pred))\n"
      ],
      "metadata": {
        "colab": {
          "base_uri": "https://localhost:8080/"
        },
        "id": "WfOc6R27awni",
        "outputId": "65d791e3-a0bb-4de9-81be-c9169a657fc2"
      },
      "execution_count": 10,
      "outputs": [
        {
          "output_type": "stream",
          "name": "stdout",
          "text": [
            "Accuracy: 0.94375\n",
            "Classification Report:\n",
            "               precision    recall  f1-score   support\n",
            "\n",
            "          No       0.98      0.96      0.97       150\n",
            "         Yes       0.54      0.70      0.61        10\n",
            "\n",
            "    accuracy                           0.94       160\n",
            "   macro avg       0.76      0.83      0.79       160\n",
            "weighted avg       0.95      0.94      0.95       160\n",
            "\n"
          ]
        }
      ]
    },
    {
      "cell_type": "code",
      "source": [
        "# Statistical difference"
      ],
      "metadata": {
        "id": "KgAhS06gb29I"
      },
      "execution_count": null,
      "outputs": []
    },
    {
      "cell_type": "code",
      "source": [
        "import pandas as pd\n",
        "\n",
        "# Load the data from the CSV file\n",
        "pokemon_data = pd.read_csv('/content/Pokemon.csv')\n",
        "\n",
        "# Print the descriptive statistics\n",
        "print(\"Descriptive Statistics:\")\n",
        "print(pokemon_data.describe())\n",
        "\n",
        "# Print the mean, median, mode, range, variance, and standard deviation individually\n",
        "print(\"\\nIndividual Statistics:\")\n",
        "print(\"Mean:\")\n",
        "print(pokemon_data.Total.mean())\n",
        "\n",
        "print(\"\\nMedian:\")\n",
        "print(pokemon_data.Total.median())\n",
        "\n",
        "print(\"\\nMode:\")\n",
        "print(pokemon_data.Total.mode().iloc[0])  # Mode returns a Series, use iloc[0] to get the first mode\n",
        "\n",
        "print(\"\\nRange:\")\n",
        "print(pokemon_data.Total.max() - pokemon_data.Total.min())\n",
        "\n",
        "print(\"\\nVariance:\")\n",
        "print(pokemon_data.Total.var())\n",
        "\n",
        "print(\"\\nStandard Deviation:\")\n",
        "print(pokemon_data.Total.std())\n"
      ],
      "metadata": {
        "colab": {
          "base_uri": "https://localhost:8080/"
        },
        "id": "NTUTCwAGb6L4",
        "outputId": "39f6c784-d470-4c93-c206-dd53ab61d7b3"
      },
      "execution_count": 14,
      "outputs": [
        {
          "output_type": "stream",
          "name": "stdout",
          "text": [
            "Descriptive Statistics:\n",
            "                #      Total          HP      Attack     Defense     Sp. Atk  \\\n",
            "count  800.000000  800.00000  800.000000  800.000000  800.000000  800.000000   \n",
            "mean   362.813750  435.10250   69.258750   79.001250   73.842500   72.820000   \n",
            "std    208.343798  119.96304   25.534669   32.457366   31.183501   32.722294   \n",
            "min      1.000000  180.00000    1.000000    5.000000    5.000000   10.000000   \n",
            "25%    184.750000  330.00000   50.000000   55.000000   50.000000   49.750000   \n",
            "50%    364.500000  450.00000   65.000000   75.000000   70.000000   65.000000   \n",
            "75%    539.250000  515.00000   80.000000  100.000000   90.000000   95.000000   \n",
            "max    721.000000  780.00000  255.000000  190.000000  230.000000  194.000000   \n",
            "\n",
            "          Sp. Def       Speed  Generation  \n",
            "count  800.000000  800.000000   800.00000  \n",
            "mean    71.902500   68.277500     3.32375  \n",
            "std     27.828916   29.060474     1.66129  \n",
            "min     20.000000    5.000000     1.00000  \n",
            "25%     50.000000   45.000000     2.00000  \n",
            "50%     70.000000   65.000000     3.00000  \n",
            "75%     90.000000   90.000000     5.00000  \n",
            "max    230.000000  180.000000     6.00000  \n",
            "\n",
            "Individual Statistics:\n",
            "Mean:\n",
            "435.1025\n",
            "\n",
            "Median:\n",
            "450.0\n",
            "\n",
            "Mode:\n",
            "600\n",
            "\n",
            "Range:\n",
            "600\n",
            "\n",
            "Variance:\n",
            "14391.13090738423\n",
            "\n",
            "Standard Deviation:\n",
            "119.96303975551899\n"
          ]
        }
      ]
    },
    {
      "cell_type": "markdown",
      "source": [
        "Count:\n",
        "\n",
        "There are 800 Pokémon entries in the dataset, indicating that it's a relatively comprehensive collection.\n",
        "Mean:\n",
        "\n",
        "The mean total base stat is approximately 435, suggesting that, on average, Pokémon have a balanced distribution of stats.\n",
        "Standard Deviation:\n",
        "\n",
        "The standard deviations for HP, Attack, Defense, Sp. Atk, Sp. Def, and Speed are moderate, indicating moderate variability in these stats across different Pokémon.\n",
        "Min, Max, and Range:\n",
        "\n",
        "The minimum and maximum values provide insights into the range of each stat. For example, the minimum HP is 1, and the maximum is 255, indicating a wide range of health points among Pokémon.\n",
        "Quartiles (25%, 50%, 75%):\n",
        "\n",
        "The quartiles help understand the distribution of values. For instance, the median (50%) value for the total base stat is 450, indicating that half of the Pokémon have a total stat below this value.\n",
        "Variance:\n",
        "\n",
        "The variance of approximately 14,391 suggests that there is considerable variability in the total base stat among Pokémon.\n",
        "Inference:\n",
        "\n",
        "The dataset contains a diverse set of Pokémon with varying base stats.\n",
        "The mean values provide a sense of the central tendency of the stats.\n",
        "The standard deviations and ranges indicate the spread or variability in each stat.\n",
        "Quartiles help in understanding the distribution of stats within the dataset."
      ],
      "metadata": {
        "id": "efjLcItXdjMn"
      }
    },
    {
      "cell_type": "code",
      "source": [
        "import pandas as pd\n",
        "import numpy as np\n",
        "\n",
        "# Load the data from the CSV file\n",
        "pokemon_data = pd.read_csv('/content/Pokemon.csv')\n",
        "\n",
        "# Introduce random noise to the 'Total' column\n",
        "noise_factor = 0.1  # You can adjust this value based on the amount of noise you want\n",
        "np.random.seed(42)  # Set a seed for reproducibility\n",
        "pokemon_data['Total_noisy'] = pokemon_data['Total'] * (1 + noise_factor * np.random.randn(len(pokemon_data)))\n",
        "\n",
        "# Print a sample to see the changes\n",
        "print(pokemon_data[['Total', 'Total_noisy']].head(10))\n"
      ],
      "metadata": {
        "colab": {
          "base_uri": "https://localhost:8080/"
        },
        "id": "Z93DTau_di04",
        "outputId": "f2a8a7f6-f85d-4915-d802-a65baff1f71a"
      },
      "execution_count": 15,
      "outputs": [
        {
          "output_type": "stream",
          "name": "stdout",
          "text": [
            "   Total  Total_noisy\n",
            "0    318   333.795510\n",
            "1    405   399.400296\n",
            "2    525   559.003648\n",
            "3    625   720.189366\n",
            "4    309   301.764661\n",
            "5    405   395.517453\n",
            "6    534   618.329964\n",
            "7    634   682.655362\n",
            "8    634   604.235324\n",
            "9    314   331.036385\n"
          ]
        }
      ]
    },
    {
      "cell_type": "code",
      "source": [
        "import pandas as pd\n",
        "from imblearn.over_sampling import SMOTE\n",
        "from sklearn.model_selection import train_test_split\n",
        "\n",
        "# Load the data from the CSV file\n",
        "pokemon_data = pd.read_csv('/content/Pokemon.csv')\n",
        "\n",
        "# Assume 'Legendary' is the target variable\n",
        "# You can replace 'Legendary' with the actual target variable in your dataset\n",
        "target_variable = 'Legendary'\n",
        "\n",
        "# Separate features (independent variables) and target (dependent variable)\n",
        "X = pokemon_data[['HP', 'Attack', 'Defense', 'Sp. Atk', 'Sp. Def', 'Speed']]\n",
        "y = pokemon_data[target_variable]\n",
        "\n",
        "# Print class distribution before SMOTE\n",
        "print(\"Class Distribution Before SMOTE:\")\n",
        "print(y.value_counts())\n",
        "\n",
        "# Split the dataset into training and testing sets\n",
        "X_train, X_test, y_train, y_test = train_test_split(X, y, test_size=0.2, random_state=42)\n",
        "\n",
        "# Apply SMOTE to handle class imbalance\n",
        "smote = SMOTE(random_state=42)\n",
        "X_resampled, y_resampled = smote.fit_resample(X_train, y_train)\n",
        "\n",
        "# Print class distribution after SMOTE\n",
        "print(\"\\nClass Distribution After SMOTE:\")\n",
        "print(pd.Series(y_resampled).value_counts())\n"
      ],
      "metadata": {
        "colab": {
          "base_uri": "https://localhost:8080/"
        },
        "id": "gC_dMUKPf7AZ",
        "outputId": "38b3ea75-a07c-4ebe-bd0f-c2d235d9498e"
      },
      "execution_count": 20,
      "outputs": [
        {
          "output_type": "stream",
          "name": "stdout",
          "text": [
            "Class Distribution Before SMOTE:\n",
            "False    735\n",
            "True      65\n",
            "Name: Legendary, dtype: int64\n",
            "\n",
            "Class Distribution After SMOTE:\n",
            "True     585\n",
            "False    585\n",
            "Name: Legendary, dtype: int64\n"
          ]
        }
      ]
    },
    {
      "cell_type": "code",
      "source": [],
      "metadata": {
        "colab": {
          "base_uri": "https://localhost:8080/",
          "height": 484
        },
        "id": "v0jKg_89f_SI",
        "outputId": "bc9f24aa-e040-4970-8eb4-afd6a8fbe4e5"
      },
      "execution_count": 25,
      "outputs": [
        {
          "output_type": "stream",
          "name": "stdout",
          "text": [
            "Mean Squared Error: 801.8045414845857\n",
            "R-squared: 0.0916414526337812\n"
          ]
        },
        {
          "output_type": "display_data",
          "data": {
            "text/plain": [
              "<Figure size 640x480 with 1 Axes>"
            ],
            "image/png": "[encoded data removed]"
          },
          "metadata": {}
        }
      ]
    },
    {
      "cell_type": "code",
      "source": [],
      "metadata": {
        "colab": {
          "base_uri": "https://localhost:8080/"
        },
        "id": "6NJsnQjtgd4K",
        "outputId": "8bc12430-7328-412e-cd3e-d4e5b23c3c1a"
      },
      "execution_count": 23,
      "outputs": [
        {
          "output_type": "stream",
          "name": "stdout",
          "text": [
            "Accuracy: 0.94375\n",
            "Confusion Matrix:\n",
            " [[145   5]\n",
            " [  4   6]]\n",
            "Classification Report:\n",
            "               precision    recall  f1-score   support\n",
            "\n",
            "       False       0.97      0.97      0.97       150\n",
            "        True       0.55      0.60      0.57        10\n",
            "\n",
            "    accuracy                           0.94       160\n",
            "   macro avg       0.76      0.78      0.77       160\n",
            "weighted avg       0.95      0.94      0.94       160\n",
            "\n"
          ]
        }
      ]
    }
  ]
}